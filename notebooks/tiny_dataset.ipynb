{
 "cells": [
  {
   "metadata": {},
   "cell_type": "markdown",
   "source": "# Tiny Dataset notebook",
   "id": "f94052d7cf91a998"
  },
  {
   "cell_type": "code",
   "id": "initial_id",
   "metadata": {
    "collapsed": true
   },
   "source": [
    "import sqlite3\n",
    "import pandas as pd\n",
    "import os\n",
    "import openai\n",
    "from dotenv import load_dotenv\n",
    "\n",
    "load_dotenv()\n",
    "openai.api_key = os.environ.get(\"OPENAI_API_KEY\")\n",
    "\n",
    "base_path = f\"{os.getcwd()}\"\n",
    "\n",
    "file_path = os.path.join(os.path.dirname(base_path), 'data/ctg-studies-tiny.db')\n",
    "\n",
    "conn = sqlite3.connect(file_path)\n",
    "\n",
    "query = \"SELECT * FROM tiny_dataset\"\n",
    "df = pd.read_sql_query(query, conn)\n",
    "# data_summary = df.describe().to_string() use a summary of the data to pass to LM\n",
    "data = df.head()\n",
    "messages = [{\n",
    "    \"role\": \"user\",\n",
    "    \"content\":f\"Can you summarize this data?{data}\" # Replace this with a different initial prompt in desired.\n",
    "}]\n",
    "response = openai.chat.completions.create(\n",
    "    model=\"gpt-4-turbo\",\n",
    "    messages=messages\n",
    ")\n",
    "\n",
    "# Keeps the conversational context intact\n",
    "assistant_response = response.choices[0].message.content\n",
    "print(assistant_response)\n",
    "messages.append({\n",
    "    \"role\": \"assistant\",\n",
    "    \"content\": assistant_response\n",
    "})\n"
   ],
   "outputs": [],
   "execution_count": null
  },
  {
   "metadata": {},
   "cell_type": "markdown",
   "source": [
    "### Continue the conversation\n",
    "Replace the content of the `new_user_message` variable with different prompts to continue the conversation."
   ],
   "id": "5c5f96c0cbc19d3a"
  },
  {
   "metadata": {},
   "cell_type": "code",
   "source": [
    "new_user_message = \"Is there anything interesting I should know bout this data?\"\n",
    "\n",
    "messages.append({\n",
    "    \"role\": \"user\",\n",
    "    \"content\": new_user_message\n",
    "})\n",
    "\n",
    "response = openai.chat.completions.create(\n",
    "    model=\"gpt-4-turbo\",\n",
    "    messages=messages\n",
    ")\n",
    "assistant_response = response.choices[0].message.content\n",
    "print(assistant_response)\n",
    "messages.append({\n",
    "    \"role\": \"assistant\",\n",
    "    \"content\": assistant_response\n",
    "})"
   ],
   "id": "e963e28fdc783ae1",
   "outputs": [],
   "execution_count": null
  },
  {
   "metadata": {},
   "cell_type": "markdown",
   "source": "",
   "id": "c346f0386e68f4f7"
  }
 ],
 "metadata": {
  "kernelspec": {
   "display_name": "Python 3",
   "language": "python",
   "name": "python3"
  },
  "language_info": {
   "codemirror_mode": {
    "name": "ipython",
    "version": 2
   },
   "file_extension": ".py",
   "mimetype": "text/x-python",
   "name": "python",
   "nbconvert_exporter": "python",
   "pygments_lexer": "ipython2",
   "version": "2.7.6"
  }
 },
 "nbformat": 4,
 "nbformat_minor": 5
}
